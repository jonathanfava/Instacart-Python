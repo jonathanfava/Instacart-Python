{
 "cells": [
  {
   "cell_type": "markdown",
   "id": "7c7779b2",
   "metadata": {},
   "source": [
    "## Contents\n",
    "    4.2 Task Questions"
   ]
  },
  {
   "cell_type": "markdown",
   "id": "504ea81c",
   "metadata": {},
   "source": [
    "## Importing Libraries"
   ]
  },
  {
   "cell_type": "code",
   "execution_count": 4,
   "id": "fa721725",
   "metadata": {},
   "outputs": [],
   "source": [
    " #import libraries\n",
    "import pandas as pd\n",
    "import numpy as np\n",
    "import os"
   ]
  },
  {
   "cell_type": "markdown",
   "id": "0f9338b6",
   "metadata": {},
   "source": [
    "## Python Data Types"
   ]
  },
  {
   "cell_type": "code",
   "execution_count": 15,
   "id": "f72f7f24",
   "metadata": {},
   "outputs": [
    {
     "data": {
      "text/plain": [
       "100"
      ]
     },
     "execution_count": 15,
     "metadata": {},
     "output_type": "execute_result"
    }
   ],
   "source": [
    "a = (50 + 50) \n",
    "a"
   ]
  },
  {
   "cell_type": "code",
   "execution_count": 16,
   "id": "04889693",
   "metadata": {},
   "outputs": [
    {
     "data": {
      "text/plain": [
       "100"
      ]
     },
     "execution_count": 16,
     "metadata": {},
     "output_type": "execute_result"
    }
   ],
   "source": [
    "b = (10000 - 9900)\n",
    "b"
   ]
  },
  {
   "cell_type": "code",
   "execution_count": 17,
   "id": "28ada6a8",
   "metadata": {},
   "outputs": [
    {
     "data": {
      "text/plain": [
       "100"
      ]
     },
     "execution_count": 17,
     "metadata": {},
     "output_type": "execute_result"
    }
   ],
   "source": [
    "c = (75 + 25)\n",
    "c"
   ]
  },
  {
   "cell_type": "markdown",
   "id": "eb6c0c09",
   "metadata": {},
   "source": [
    "## Floating Point"
   ]
  },
  {
   "cell_type": "code",
   "execution_count": 25,
   "id": "d2960456",
   "metadata": {},
   "outputs": [],
   "source": [
    "d = (4.2)\n",
    "e = (5.5)"
   ]
  },
  {
   "cell_type": "code",
   "execution_count": 29,
   "id": "032f4706",
   "metadata": {},
   "outputs": [
    {
     "data": {
      "text/plain": [
       "0.7636363636363637"
      ]
     },
     "execution_count": 29,
     "metadata": {},
     "output_type": "execute_result"
    }
   ],
   "source": [
    "f = (d/e)\n",
    "f"
   ]
  },
  {
   "cell_type": "markdown",
   "id": "2342c9e7",
   "metadata": {},
   "source": [
    "## Strings"
   ]
  },
  {
   "cell_type": "code",
   "execution_count": 30,
   "id": "3c5e9b0b",
   "metadata": {},
   "outputs": [
    {
     "data": {
      "text/plain": [
       "'iphone'"
      ]
     },
     "execution_count": 30,
     "metadata": {},
     "output_type": "execute_result"
    }
   ],
   "source": [
    "g = 'i'\n",
    "h = 'phone'\n",
    "g + h"
   ]
  },
  {
   "cell_type": "code",
   "execution_count": 32,
   "id": "9d3bb7cf",
   "metadata": {},
   "outputs": [
    {
     "data": {
      "text/plain": [
       "'Hi Elizabeth'"
      ]
     },
     "execution_count": 32,
     "metadata": {},
     "output_type": "execute_result"
    }
   ],
   "source": [
    "i = 'Hi'\n",
    "j = ' Elizabeth'\n",
    "i + j"
   ]
  },
  {
   "cell_type": "code",
   "execution_count": 37,
   "id": "85dd00c0",
   "metadata": {},
   "outputs": [
    {
     "data": {
      "text/plain": [
       "'This is fun'"
      ]
     },
     "execution_count": 37,
     "metadata": {},
     "output_type": "execute_result"
    }
   ],
   "source": [
    "k = 'This '\n",
    "l = 'is '\n",
    "m = 'fun'\n",
    "k + l + m"
   ]
  },
  {
   "cell_type": "markdown",
   "id": "2df509bf",
   "metadata": {},
   "source": [
    "## Bonus"
   ]
  },
  {
   "cell_type": "code",
   "execution_count": 38,
   "id": "38c5d7fe",
   "metadata": {},
   "outputs": [
    {
     "data": {
      "text/plain": [
       "'This is funThis is funThis is funThis is funThis is funThis is funThis is funThis is funThis is funThis is funThis is funThis is funThis is funThis is funThis is funThis is funThis is funThis is funThis is funThis is funThis is funThis is funThis is funThis is funThis is funThis is funThis is funThis is funThis is funThis is funThis is funThis is funThis is funThis is funThis is funThis is funThis is funThis is funThis is funThis is funThis is funThis is funThis is funThis is funThis is funThis is funThis is funThis is funThis is funThis is funThis is funThis is funThis is funThis is funThis is funThis is funThis is funThis is funThis is funThis is funThis is funThis is funThis is funThis is funThis is funThis is funThis is funThis is funThis is funThis is funThis is funThis is funThis is funThis is funThis is funThis is funThis is funThis is funThis is funThis is funThis is funThis is funThis is funThis is funThis is funThis is funThis is funThis is funThis is funThis is funThis is funThis is funThis is funThis is funThis is funThis is funThis is funThis is funThis is funThis is fun'"
      ]
     },
     "execution_count": 38,
     "metadata": {},
     "output_type": "execute_result"
    }
   ],
   "source": [
    "n = k + l + m\n",
    "n * 100"
   ]
  }
 ],
 "metadata": {
  "kernelspec": {
   "display_name": "Python 3 (ipykernel)",
   "language": "python",
   "name": "python3"
  },
  "language_info": {
   "codemirror_mode": {
    "name": "ipython",
    "version": 3
   },
   "file_extension": ".py",
   "mimetype": "text/x-python",
   "name": "python",
   "nbconvert_exporter": "python",
   "pygments_lexer": "ipython3",
   "version": "3.9.12"
  }
 },
 "nbformat": 4,
 "nbformat_minor": 5
}
